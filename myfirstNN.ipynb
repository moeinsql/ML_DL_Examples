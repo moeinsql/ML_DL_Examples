{
 "cells": [
  {
   "cell_type": "markdown",
   "metadata": {
    "id": "xArtrwzJ8NyN"
   },
   "source": [
    "This is a very simple example of neural network. Its purpose is to approximate an unknown single valued function using a dense deep network. \n",
    "The user is invited to play with it, modifying:\n",
    "1. the hidden function\n",
    "2. the number of layers and neurons per layer\n",
    "3. activation functions, number of epochs, and so on."
   ]
  },
  {
   "cell_type": "code",
   "execution_count": 3,
   "metadata": {
    "colab": {
     "base_uri": "https://localhost:8080/"
    },
    "id": "2oAc-WyJ6bsl",
    "outputId": "ff5981c6-3409-4e44-c126-3a69f7e54ded"
   },
   "outputs": [],
   "source": [
    "from tensorflow.keras.layers import Input, Dense\n",
    "from tensorflow.keras.models import Model\n",
    "import numpy as np\n",
    "import matplotlib.pyplot as plt"
   ]
  },
  {
   "cell_type": "markdown",
   "metadata": {
    "id": "XKTYzmUP9vB-"
   },
   "source": [
    "\"myhiddenfunction\" is the definition of the function you want to approximate by means of a neural network (NN). The definition is hidden to the NN, who can only access it as a blackbox, to get training samples. \n",
    "This is implemented by means of a generator (a special kind of function), taking in input a number (batchsize) and returning a pair of input output vectors of length batchsize. Each input is a random number in the interval [-pi,pi] and the output is computed by means of myhiddenfunction."
   ]
  },
  {
   "cell_type": "code",
   "execution_count": 26,
   "metadata": {
    "id": "Xf4J4vaG7i1d"
   },
   "outputs": [],
   "source": [
    "def myhiddenfunction(x):\n",
    "  #define your favourite function\n",
    "  #output in range 0-1 if last activation is a sigmoid!\n",
    "  return (np.sin(x)**3 + np.sqrt(np.cos(x)/3 + 1)/3)\n",
    "  \n",
    "def generator(batchsize):\n",
    "    while True:\n",
    "      inputs = np.random.uniform(low=-np.pi,high=np.pi,size=batchsize)\n",
    "      outputs = np.zeros(batchsize)\n",
    "      for i in range(0,batchsize):\n",
    "          outputs[i] = myhiddenfunction(inputs[i])\n",
    "      yield (inputs,outputs)"
   ]
  },
  {
   "cell_type": "markdown",
   "metadata": {
    "id": "IOhXjNKJAhbH"
   },
   "source": [
    "If you want to see an example of a generated batch, you need to invoke next on the generator"
   ]
  },
  {
   "cell_type": "code",
   "execution_count": 28,
   "metadata": {
    "colab": {
     "base_uri": "https://localhost:8080/"
    },
    "id": "_R6lAy5BBCoe",
    "outputId": "4471f516-f8b7-42eb-f025-6bb52e8a133f"
   },
   "outputs": [
    {
     "name": "stdout",
     "output_type": "stream",
     "text": [
      "(array([-0.09418854,  2.98454536,  1.49216279, -2.29262957,  1.19281995]), array([ 0.38385497,  0.27682748,  1.32842771, -0.12853686,  1.15607685]))\n"
     ]
    }
   ],
   "source": [
    "print(next(generator(5)))"
   ]
  },
  {
   "cell_type": "markdown",
   "metadata": {
    "id": "RzW03FAiBicW"
   },
   "source": [
    "Now we define the network. The function we want to approximate is single valued, so the network will have a single input and a single output, and its (dense) structure is completely defined by a \n",
    "list specifying the number of neurons per layer\n"
   ]
  },
  {
   "cell_type": "markdown",
   "metadata": {
    "id": "6lHWJ3ddW-7d"
   },
   "source": [
    "Here is an alternative, more modular definition of the same network."
   ]
  },
  {
   "cell_type": "code",
   "execution_count": 34,
   "metadata": {
    "id": "yk8gF-HzDayv"
   },
   "outputs": [],
   "source": [
    "# size of hidden layers (one for each of them)\n",
    "inner_layers_dims = [20,30,20,30]\n",
    "\n",
    "input_layer = Input(shape=(1,))\n",
    "x = input_layer\n",
    "for i in range(0,len(inner_layers_dims)):\n",
    "  x = Dense(inner_layers_dims[i], activation='relu')(x)\n",
    "output_layer = Dense(1, activation='relu')(x)\n",
    "\n",
    "mymodel = Model(input_layer, output_layer)"
   ]
  },
  {
   "cell_type": "markdown",
   "metadata": {
    "id": "sruNt7tJD_uW"
   },
   "source": [
    "We can now have a look at the model we just generated:"
   ]
  },
  {
   "cell_type": "code",
   "execution_count": 35,
   "metadata": {
    "colab": {
     "base_uri": "https://localhost:8080/"
    },
    "id": "vycSPvkZEJ2Q",
    "outputId": "c6a61b5c-0b7c-4360-ff49-8b7d55f24f94"
   },
   "outputs": [
    {
     "name": "stdout",
     "output_type": "stream",
     "text": [
      "Model: \"model_11\"\n",
      "_________________________________________________________________\n",
      "Layer (type)                 Output Shape              Param #   \n",
      "=================================================================\n",
      "input_12 (InputLayer)        [(None, 1)]               0         \n",
      "_________________________________________________________________\n",
      "dense_45 (Dense)             (None, 20)                40        \n",
      "_________________________________________________________________\n",
      "dense_46 (Dense)             (None, 30)                630       \n",
      "_________________________________________________________________\n",
      "dense_47 (Dense)             (None, 20)                620       \n",
      "_________________________________________________________________\n",
      "dense_48 (Dense)             (None, 30)                630       \n",
      "_________________________________________________________________\n",
      "dense_49 (Dense)             (None, 1)                 31        \n",
      "=================================================================\n",
      "Total params: 1,951\n",
      "Trainable params: 1,951\n",
      "Non-trainable params: 0\n",
      "_________________________________________________________________\n"
     ]
    }
   ],
   "source": [
    "mymodel.summary()"
   ]
  },
  {
   "cell_type": "markdown",
   "metadata": {
    "id": "gXRWtOJsEPj-"
   },
   "source": [
    "Try to be sure you correctly understand the number of learning parameters for each layer. \n",
    "For a dense layer with n input neurons and m output neurons, your have nxm weights + m biases.\n",
    "For instance, for a 20-to-30 layer, we have 20x30+30 = 630 parameters."
   ]
  },
  {
   "cell_type": "markdown",
   "metadata": {
    "id": "qIuE_GgiGBS7"
   },
   "source": [
    "We are finally ready to compile our model and train it.\n",
    "As loss function we use mean square error (mse). \n",
    "The \"optimizer\" is the technique used to tune the learning rate during backpropagation: you may ignore it for the moment."
   ]
  },
  {
   "cell_type": "code",
   "execution_count": 36,
   "metadata": {
    "id": "0wVDNBzS3066"
   },
   "outputs": [],
   "source": [
    "mymodel.compile(optimizer='adam', loss='mse')"
   ]
  },
  {
   "cell_type": "code",
   "execution_count": 37,
   "metadata": {
    "colab": {
     "base_uri": "https://localhost:8080/"
    },
    "id": "gfjFQg6QFy8O",
    "outputId": "7d6c4c8b-1e13-4ab9-b57d-ede1fdc5eb52"
   },
   "outputs": [
    {
     "name": "stdout",
     "output_type": "stream",
     "text": [
      "Epoch 1/10\n",
      "1000/1000 [==============================] - 12s 12ms/step - loss: 0.4264\n",
      "Epoch 2/10\n",
      "1000/1000 [==============================] - 11s 11ms/step - loss: 0.4221\n",
      "Epoch 3/10\n",
      "1000/1000 [==============================] - 9s 9ms/step - loss: 0.4217\n",
      "Epoch 4/10\n",
      "1000/1000 [==============================] - 10s 10ms/step - loss: 0.4218\n",
      "Epoch 5/10\n",
      "1000/1000 [==============================] - 12s 12ms/step - loss: 0.4243\n",
      "Epoch 6/10\n",
      "1000/1000 [==============================] - 12s 12ms/step - loss: 0.4216\n",
      "Epoch 7/10\n",
      "1000/1000 [==============================] - 12s 12ms/step - loss: 0.4254\n",
      "Epoch 8/10\n",
      "1000/1000 [==============================] - 11s 11ms/step - loss: 0.4228\n",
      "Epoch 9/10\n",
      "1000/1000 [==============================] - 10s 10ms/step - loss: 0.4241\n",
      "Epoch 10/10\n",
      "1000/1000 [==============================] - 12s 12ms/step - loss: 0.4212\n"
     ]
    },
    {
     "data": {
      "text/plain": [
       "<tensorflow.python.keras.callbacks.History at 0x7f101c1bda20>"
      ]
     },
     "execution_count": 37,
     "metadata": {},
     "output_type": "execute_result"
    }
   ],
   "source": [
    "batchsize = 64\n",
    "\n",
    "mymodel.fit_generator(generator(batchsize), steps_per_epoch=1000, epochs=10)"
   ]
  },
  {
   "cell_type": "markdown",
   "metadata": {
    "id": "gQJx-p0zHxWl"
   },
   "source": [
    "If everything is working correctly, the loss should decrease during training.  \n",
    "If it doesn't, it means that, for some reason, the network is not learning.\n",
    "\n",
    "We are finally ready to check the result of the approximation. We plot the hidden function in red, \n",
    "and the approximation computed by the network in blu."
   ]
  },
  {
   "cell_type": "code",
   "execution_count": 38,
   "metadata": {
    "colab": {
     "base_uri": "https://localhost:8080/",
     "height": 269
    },
    "id": "LquGdgn0INmX",
    "outputId": "d6d015aa-5846-40dc-dac0-e9a349b00dcf"
   },
   "outputs": [
    {
     "data": {
      "image/png": "[encoded data removed]",
      "text/plain": [
       "<Figure size 432x288 with 1 Axes>"
      ]
     },
     "metadata": {
      "needs_background": "light"
     },
     "output_type": "display_data"
    }
   ],
   "source": [
    "x = np.arange(-np.pi,np.pi,0.05)\n",
    "y = [myhiddenfunction(a) for a in x]\n",
    "z = [z[0] for z in mymodel.predict(np.array(x))]\n",
    "plt.plot(x,y,'r',x,z,'b')\n",
    "plt.legend(['real','predicted'], loc='upper right')\n",
    "plt.show() \n"
   ]
  },
  {
   "cell_type": "markdown",
   "metadata": {
    "id": "2DOwrXfyI45P"
   },
   "source": [
    "Now is your turn. Modify:\n",
    "\n",
    "1. the definition of the hidden function\n",
    "2. the number of layers/neurons per layer; you just have to change inner_layers_dims in block 6.\n",
    "\n",
    "Have fun."
   ]
  }
 ],
 "metadata": {
  "accelerator": "GPU",
  "colab": {
   "collapsed_sections": [],
   "name": "myfirstNN.ipynb",
   "provenance": []
  },
  "kernelspec": {
   "display_name": "Python 3",
   "language": "python",
   "name": "python3"
  },
  "language_info": {
   "codemirror_mode": {
    "name": "ipython",
    "version": 3
   },
   "file_extension": ".py",
   "mimetype": "text/x-python",
   "name": "python",
   "nbconvert_exporter": "python",
   "pygments_lexer": "ipython3",
   "version": "3.6.15"
  }
 },
 "nbformat": 4,
 "nbformat_minor": 4
}
