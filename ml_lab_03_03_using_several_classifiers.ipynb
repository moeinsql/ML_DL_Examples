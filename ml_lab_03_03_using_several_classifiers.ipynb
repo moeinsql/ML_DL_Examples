{
  "cells": [
    {
      "cell_type": "markdown",
      "metadata": {
        "id": "view-in-github",
        "colab_type": "text"
      },
      "source": [
        "<a href=\"https://colab.research.google.com/github/moeinsql/ML_DL_Examples/blob/main/ml_lab_03_03_using_several_classifiers.ipynb\" target=\"_parent\"><img src=\"https://colab.research.google.com/assets/colab-badge.svg\" alt=\"Open In Colab\"/></a>"
      ]
    },
    {
      "cell_type": "markdown",
      "metadata": {
        "id": "z27bNp0OQdjp"
      },
      "source": [
        "# Using several classifiers and tuning parameters - Parameters grid\n",
        "[From official `scikit-learn` documentation](http://scikit-learn.org/stable/auto_examples/model_selection/plot_grid_search_digits.html)\n",
        "\n",
        "Adapted by Claudio Sartori\n",
        "\n",
        "Example of usage of the ***model selection*** features of `scikit-learn` and comparison of several classification methods.\n",
        "1. import a sample dataset \n",
        "1. split the dataset into two parts: train and test\n",
        "    - the *train* part will be used for training and validation (i.e. for *development*)\n",
        "    - the *test* part will be used for test (i.e. for *evaluation*)\n",
        "    - the fraction of test data will be _ts_ (a value of your choice between 0.2 and 0.5)\n",
        "1. the function `GridSearchCV` iterates a cross validation experiment to train and test a model with different combinations of paramater values\n",
        "    - for each parameter we set a list of values to test, the function will generate all the combinations\n",
        "    - we choose a *score function* which will be used for the optimization\n",
        "        - e.g. `accuracy_score`, `precision_score`, `cohen_kappa_score`, `f1_score`, see this [page](http://scikit-learn.org/stable/modules/classes.html#module-sklearn.metrics) for reference\n",
        "    - the output is a dictionary containing \n",
        "        - the set of parameters which maximize the score \n",
        "        - the test scores\n",
        "1. prepare the parameters for the grid\n",
        "    - it is a list of dictionaries\n",
        "1. set the parameters by cross validation and the *score functions* to choose from\n",
        "1. Loop on scores and, for each score, loop on the model labels (see details below)"
      ]
    },
    {
      "cell_type": "code",
      "execution_count": 1,
      "metadata": {
        "colab": {
          "base_uri": "https://localhost:8080/"
        },
        "id": "SV10eJPXQdkA",
        "outputId": "8dc8ee65-9783-4725-8316-06e9133202ca"
      },
      "outputs": [
        {
          "output_type": "stream",
          "name": "stdout",
          "text": [
            "\n",
            "http://scikit-learn.org/stable/auto_examples/model_selection/plot_grid_search_digits.html\n",
            "@author: scikit-learn.org and Claudio Sartori\n",
            "\n"
          ]
        }
      ],
      "source": [
        "\"\"\"\n",
        "http://scikit-learn.org/stable/auto_examples/model_selection/plot_grid_search_digits.html\n",
        "@author: scikit-learn.org and Claudio Sartori\n",
        "\"\"\"\n",
        "import warnings\n",
        "warnings.filterwarnings('ignore') # uncomment this line to suppress warnings\n",
        "\n",
        "from sklearn import datasets\n",
        "from sklearn.model_selection import train_test_split\n",
        "from sklearn.model_selection import GridSearchCV\n",
        "from sklearn.metrics import classification_report\n",
        "from sklearn.svm import SVC\n",
        "from sklearn.linear_model import Perceptron\n",
        "from sklearn.neural_network import MLPClassifier\n",
        "from sklearn.tree import DecisionTreeClassifier\n",
        "from sklearn.naive_bayes import GaussianNB\n",
        "from sklearn.neighbors import KNeighborsClassifier\n",
        "import numpy as np\n",
        "print(__doc__) # print information included in the triple quotes at the beginning\n",
        "\n",
        "# Loading a standard dataset\n",
        "#dataset = datasets.load_digits()\n",
        "# dataset = datasets.fetch_olivetti_faces() # 40 classes!\n",
        "# dataset = datasets.fetch_covtype()        # 581012 examples\t 54 features \n",
        "# dataset = datasets.load_iris()    # 150 examples -- 4 features -- 3 classes\n",
        "dataset = datasets.load_wine()      # 178 examples -- 13 features -- 3 classes\n",
        "# dataset = datasets.load_breast_cancer() # binary"
      ]
    },
    {
      "cell_type": "markdown",
      "metadata": {
        "id": "DYyQxl41QdkM"
      },
      "source": [
        "### Prepare the environment\n",
        "The `dataset` module contains, among others, a few sample datasets.\n",
        "\n",
        "See this [page](http://scikit-learn.org/stable/datasets/index.html) for reference\n",
        "\n",
        "Prepare the data and the target in X and y. Set `ts`. Set the random state"
      ]
    },
    {
      "cell_type": "code",
      "execution_count": 18,
      "metadata": {
        "id": "PaNm-b90QdkT"
      },
      "outputs": [],
      "source": [
        "X = dataset.data\n",
        "y = dataset.target"
      ]
    },
    {
      "cell_type": "markdown",
      "metadata": {
        "id": "rnjgGpJlQdkf"
      },
      "source": [
        "Split the dataset into the train and test parts"
      ]
    },
    {
      "cell_type": "code",
      "execution_count": 16,
      "metadata": {
        "id": "8fIjH8DIQdkj"
      },
      "outputs": [],
      "source": [
        "Xtrain, Xtest, ytrain, ytest = train_test_split(X,y, random_state=10)"
      ]
    },
    {
      "cell_type": "markdown",
      "metadata": {
        "id": "YqJdPvP6Qdkr"
      },
      "source": [
        "The code below is intended to ease the remainder of the exercise"
      ]
    },
    {
      "cell_type": "code",
      "execution_count": 17,
      "metadata": {
        "id": "SDt2vimGQdkv"
      },
      "outputs": [],
      "source": [
        "model_lbls = [\n",
        "             'dt', \n",
        "             'nb', \n",
        "#              'lp', \n",
        "#              'svc', \n",
        "#              'knn',\n",
        "            ]\n",
        "\n",
        "# Set the parameters to be explored by the grid for each classifier\n",
        "tuned_param_dt = [{'max_depth': list(range(1,20))}]\n",
        "tuned_param_nb = [{'var_smoothing': [10, 1, 1e-1, 1e-2, 1e-3, 1e-4, 1e-5, 1e-6, 1e-07, 1e-8, 1e-9, 1e-10]}]\n",
        "tuned_param_lp = [{'early_stopping': [True]}]\n",
        "tuned_param_svc = [{'kernel': ['rbf'], \n",
        "                    'gamma': [1e-3, 1e-4],\n",
        "                    'C': [1, 10, 100, 1000],\n",
        "                    },\n",
        "                    {'kernel': ['linear'],\n",
        "                     'C': [1, 10, 100, 1000],                     \n",
        "                    },\n",
        "                   ]\n",
        "tuned_param_knn =[{'n_neighbors': [1, 2, 3, 4, 5, 6, 7, 8, 9, 10]}]\n",
        "\n",
        "# set the models to be fitted specifying name, estimator and parameter structure\n",
        "models = {\n",
        "    'dt': {'name': 'Decision Tree       ',\n",
        "           'estimator': DecisionTreeClassifier(), \n",
        "           'param': tuned_param_dt,\n",
        "          },\n",
        "    'nb': {'name': 'Gaussian Naive Bayes',\n",
        "           'estimator': GaussianNB(),\n",
        "           'param': tuned_param_nb\n",
        "          },\n",
        "    'lp': {'name': 'Linear Perceptron   ',\n",
        "           'estimator': Perceptron(),\n",
        "           'param': tuned_param_lp,\n",
        "          },\n",
        "    'svc':{'name': 'Support Vector      ',\n",
        "           'estimator': SVC(), \n",
        "           'param': tuned_param_svc\n",
        "          },\n",
        "    'knn':{'name': 'K Nearest Neighbor ',\n",
        "           'estimator': KNeighborsClassifier(),\n",
        "           'param': tuned_param_knn\n",
        "        \n",
        "    }\n",
        "}\n",
        "\n",
        "# scores to be explored\n",
        "scores = [\n",
        "          'precision', \n",
        "#           'recall',\n",
        "         ]"
      ]
    },
    {
      "cell_type": "markdown",
      "metadata": {
        "id": "469HIhXeQdk3"
      },
      "source": [
        "### The function below groups all the outputs\n",
        "Write a function which has as parameter the fitted model and uses the components of the fitted model to inspect the results of the search with the parameters grid.\n",
        "\n",
        "The components are:<br>\n",
        "`model.best_params_`<br>\n",
        "`model.cv_results_['mean_test_score']`<br>`\n",
        "model.cv_results_['std_test_score']`<br>\n",
        "`model.cv_results_['params']`\n",
        "\n",
        "The classification report is generated by the function imported above from sklearn.metrics, which takes as argument the true and the predicted test labels.\n",
        "\n",
        "The +/- in the results is obtained doubling the `std_test_score`. Mean and standard test scores are computed considering the various results on the cross-validation chunks.\n",
        "\n",
        "The function will be used to print the results for each set of parameters"
      ]
    },
    {
      "cell_type": "code",
      "execution_count": 58,
      "metadata": {
        "id": "qJldwrrmQdk9"
      },
      "outputs": [],
      "source": [
        "def showResult(gscv):\n",
        "    print(\"Grid scores on development set:\")\n",
        "    print()\n",
        "    print(\"Best parameters set found on development set:\")\n",
        "    print()\n",
        "\n",
        "    print(gscv.best_params_)\n",
        "    print()\n",
        "\n",
        "    print(\"Grid scores on development set:\")\n",
        "    print()\n",
        "\n",
        "\n",
        "    means = gscv.cv_results_[\"mean_test_score\"]\n",
        "    stds = gscv.cv_results_[\"std_test_score\"]\n",
        "    for mean, std, params in zip(means, stds, gscv.cv_results_[\"params\"]):\n",
        "        print(\"%0.3f (+/-%0.03f) for %r\" % (mean, std * 2, params))\n",
        "    print()\n",
        "\n",
        "    print(\"Detailed classification report:\")\n",
        "    print()\n",
        "    print(\"The model is trained on the full development set.\")\n",
        "    print(\"The scores are computed on the full evaluation set.\")\n",
        "    print()\n",
        "    y_true, y_pred = ytest, gscv.predict(Xtest)\n",
        "    print(classification_report(y_true, y_pred))\n",
        "    print()\n"
      ]
    },
    {
      "cell_type": "markdown",
      "metadata": {
        "id": "lj0DhCi4QdlA"
      },
      "source": [
        "### Loop on scores and, for each score, loop on the model labels\n",
        "- iterate varying the score function\n",
        "    1. iterate varying the classification model among Decision Tree, Naive Bayes, Linear Perceptron, Support Vector\n",
        "        - activate the *grid search*\n",
        "            1. the resulting model will be the best one according to the current score function\n",
        "        - print the best parameter set and the results for each set of parameters using the above defined function\n",
        "        - print the classification report\n",
        "        - store the `.best score_` in a dictionary for a final report\n",
        "    1. print the final report for the current *score funtion*"
      ]
    },
    {
      "cell_type": "code",
      "execution_count": 59,
      "metadata": {
        "scrolled": true,
        "colab": {
          "base_uri": "https://localhost:8080/"
        },
        "id": "H5e0j9lEQdlB",
        "outputId": "9299ddec-eec4-4285-f4c7-7e044a404e5b"
      },
      "outputs": [
        {
          "output_type": "stream",
          "name": "stdout",
          "text": [
            "# Tuning hyper-parameters for precision\n",
            "\n",
            "Grid scores on development set:\n",
            "\n",
            "Best parameters set found on development set:\n",
            "\n",
            "{'max_depth': 6}\n",
            "\n",
            "Grid scores on development set:\n",
            "\n",
            "0.444 (+/-0.073) for {'max_depth': 1}\n",
            "0.916 (+/-0.093) for {'max_depth': 2}\n",
            "0.925 (+/-0.114) for {'max_depth': 3}\n",
            "0.899 (+/-0.108) for {'max_depth': 4}\n",
            "0.932 (+/-0.096) for {'max_depth': 5}\n",
            "0.947 (+/-0.106) for {'max_depth': 6}\n",
            "0.921 (+/-0.084) for {'max_depth': 7}\n",
            "0.929 (+/-0.102) for {'max_depth': 8}\n",
            "0.924 (+/-0.097) for {'max_depth': 9}\n",
            "0.930 (+/-0.090) for {'max_depth': 10}\n",
            "0.917 (+/-0.098) for {'max_depth': 11}\n",
            "0.936 (+/-0.083) for {'max_depth': 12}\n",
            "0.930 (+/-0.103) for {'max_depth': 13}\n",
            "0.914 (+/-0.119) for {'max_depth': 14}\n",
            "0.936 (+/-0.080) for {'max_depth': 15}\n",
            "0.929 (+/-0.100) for {'max_depth': 16}\n",
            "0.917 (+/-0.115) for {'max_depth': 17}\n",
            "0.927 (+/-0.117) for {'max_depth': 18}\n",
            "0.891 (+/-0.193) for {'max_depth': 19}\n",
            "\n",
            "Detailed classification report:\n",
            "\n",
            "The model is trained on the full development set.\n",
            "The scores are computed on the full evaluation set.\n",
            "\n",
            "              precision    recall  f1-score   support\n",
            "\n",
            "           0       1.00      0.92      0.96        13\n",
            "           1       0.91      0.91      0.91        23\n",
            "           2       0.80      0.89      0.84         9\n",
            "\n",
            "    accuracy                           0.91        45\n",
            "   macro avg       0.90      0.91      0.91        45\n",
            "weighted avg       0.92      0.91      0.91        45\n",
            "\n",
            "\n",
            "Grid scores on development set:\n",
            "\n",
            "Best parameters set found on development set:\n",
            "\n",
            "{'var_smoothing': 1e-06}\n",
            "\n",
            "Grid scores on development set:\n",
            "\n",
            "0.494 (+/-0.044) for {'var_smoothing': 10}\n",
            "0.716 (+/-0.307) for {'var_smoothing': 1}\n",
            "0.758 (+/-0.095) for {'var_smoothing': 0.1}\n",
            "0.739 (+/-0.149) for {'var_smoothing': 0.01}\n",
            "0.793 (+/-0.070) for {'var_smoothing': 0.001}\n",
            "0.902 (+/-0.128) for {'var_smoothing': 0.0001}\n",
            "0.974 (+/-0.045) for {'var_smoothing': 1e-05}\n",
            "0.982 (+/-0.046) for {'var_smoothing': 1e-06}\n",
            "0.973 (+/-0.079) for {'var_smoothing': 1e-07}\n",
            "0.973 (+/-0.079) for {'var_smoothing': 1e-08}\n",
            "0.973 (+/-0.079) for {'var_smoothing': 1e-09}\n",
            "0.973 (+/-0.079) for {'var_smoothing': 1e-10}\n",
            "\n",
            "Detailed classification report:\n",
            "\n",
            "The model is trained on the full development set.\n",
            "The scores are computed on the full evaluation set.\n",
            "\n",
            "              precision    recall  f1-score   support\n",
            "\n",
            "           0       0.87      1.00      0.93        13\n",
            "           1       1.00      0.78      0.88        23\n",
            "           2       0.75      1.00      0.86         9\n",
            "\n",
            "    accuracy                           0.89        45\n",
            "   macro avg       0.87      0.93      0.89        45\n",
            "weighted avg       0.91      0.89      0.89        45\n",
            "\n",
            "\n",
            "Grid scores on development set:\n",
            "\n",
            "Best parameters set found on development set:\n",
            "\n",
            "{'early_stopping': True}\n",
            "\n",
            "Grid scores on development set:\n",
            "\n",
            "0.359 (+/-0.514) for {'early_stopping': True}\n",
            "\n",
            "Detailed classification report:\n",
            "\n",
            "The model is trained on the full development set.\n",
            "The scores are computed on the full evaluation set.\n",
            "\n",
            "              precision    recall  f1-score   support\n",
            "\n",
            "           0       1.00      0.15      0.27        13\n",
            "           1       0.00      0.00      0.00        23\n",
            "           2       0.21      1.00      0.35         9\n",
            "\n",
            "    accuracy                           0.24        45\n",
            "   macro avg       0.40      0.38      0.20        45\n",
            "weighted avg       0.33      0.24      0.15        45\n",
            "\n",
            "\n",
            "Grid scores on development set:\n",
            "\n",
            "Best parameters set found on development set:\n",
            "\n",
            "{'C': 1, 'kernel': 'linear'}\n",
            "\n",
            "Grid scores on development set:\n",
            "\n",
            "0.726 (+/-0.226) for {'C': 1, 'gamma': 0.001, 'kernel': 'rbf'}\n",
            "0.808 (+/-0.142) for {'C': 1, 'gamma': 0.0001, 'kernel': 'rbf'}\n",
            "0.796 (+/-0.215) for {'C': 10, 'gamma': 0.001, 'kernel': 'rbf'}\n",
            "0.801 (+/-0.112) for {'C': 10, 'gamma': 0.0001, 'kernel': 'rbf'}\n",
            "0.820 (+/-0.188) for {'C': 100, 'gamma': 0.001, 'kernel': 'rbf'}\n",
            "0.897 (+/-0.091) for {'C': 100, 'gamma': 0.0001, 'kernel': 'rbf'}\n",
            "0.820 (+/-0.188) for {'C': 1000, 'gamma': 0.001, 'kernel': 'rbf'}\n",
            "0.890 (+/-0.077) for {'C': 1000, 'gamma': 0.0001, 'kernel': 'rbf'}\n",
            "0.972 (+/-0.029) for {'C': 1, 'kernel': 'linear'}\n",
            "0.967 (+/-0.039) for {'C': 10, 'kernel': 'linear'}\n",
            "0.967 (+/-0.039) for {'C': 100, 'kernel': 'linear'}\n",
            "0.967 (+/-0.039) for {'C': 1000, 'kernel': 'linear'}\n",
            "\n",
            "Detailed classification report:\n",
            "\n",
            "The model is trained on the full development set.\n",
            "The scores are computed on the full evaluation set.\n",
            "\n",
            "              precision    recall  f1-score   support\n",
            "\n",
            "           0       0.76      1.00      0.87        13\n",
            "           1       1.00      0.74      0.85        23\n",
            "           2       0.82      1.00      0.90         9\n",
            "\n",
            "    accuracy                           0.87        45\n",
            "   macro avg       0.86      0.91      0.87        45\n",
            "weighted avg       0.90      0.87      0.86        45\n",
            "\n",
            "\n",
            "Grid scores on development set:\n",
            "\n",
            "Best parameters set found on development set:\n",
            "\n",
            "{'n_neighbors': 1}\n",
            "\n",
            "Grid scores on development set:\n",
            "\n",
            "0.807 (+/-0.153) for {'n_neighbors': 1}\n",
            "0.672 (+/-0.220) for {'n_neighbors': 2}\n",
            "0.737 (+/-0.181) for {'n_neighbors': 3}\n",
            "0.703 (+/-0.153) for {'n_neighbors': 4}\n",
            "0.720 (+/-0.130) for {'n_neighbors': 5}\n",
            "0.671 (+/-0.146) for {'n_neighbors': 6}\n",
            "0.715 (+/-0.113) for {'n_neighbors': 7}\n",
            "0.713 (+/-0.122) for {'n_neighbors': 8}\n",
            "0.703 (+/-0.086) for {'n_neighbors': 9}\n",
            "0.720 (+/-0.163) for {'n_neighbors': 10}\n",
            "\n",
            "Detailed classification report:\n",
            "\n",
            "The model is trained on the full development set.\n",
            "The scores are computed on the full evaluation set.\n",
            "\n",
            "              precision    recall  f1-score   support\n",
            "\n",
            "           0       0.71      0.77      0.74        13\n",
            "           1       0.82      0.61      0.70        23\n",
            "           2       0.43      0.67      0.52         9\n",
            "\n",
            "    accuracy                           0.67        45\n",
            "   macro avg       0.66      0.68      0.65        45\n",
            "weighted avg       0.71      0.67      0.68        45\n",
            "\n",
            "\n"
          ]
        }
      ],
      "source": [
        "for score in scores:\n",
        "  print(\"# Tuning hyper-parameters for %s\" % score)\n",
        "  print()\n",
        "\n",
        "  for modelid, modeldict in models.items():  \n",
        "    gscv = GridSearchCV(modeldict.get('estimator'), modeldict.get('param'), scoring=\"%s_macro\" % score)\n",
        "    gscv.fit(Xtrain, ytrain)\n",
        "    showResult(gscv)\n",
        "\n"
      ]
    }
  ],
  "metadata": {
    "celltoolbar": "Slideshow",
    "kernelspec": {
      "display_name": "Python 3",
      "language": "python",
      "name": "python3"
    },
    "language_info": {
      "codemirror_mode": {
        "name": "ipython",
        "version": 3
      },
      "file_extension": ".py",
      "mimetype": "text/x-python",
      "name": "python",
      "nbconvert_exporter": "python",
      "pygments_lexer": "ipython3",
      "version": "3.7.5"
    },
    "colab": {
      "name": "ml_lab_03_03_using_several_classifiers-nocode.ipynb",
      "provenance": [],
      "collapsed_sections": [],
      "include_colab_link": true
    }
  },
  "nbformat": 4,
  "nbformat_minor": 0
}