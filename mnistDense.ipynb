{
 "cells": [
  {
   "cell_type": "markdown",
   "metadata": {
    "id": "B8wSwJnsjx5P"
   },
   "source": [
    "# Mnist classification with NNs\n",
    "A first example of a simple Neural Network, applied to a well known dataset."
   ]
  },
  {
   "cell_type": "code",
   "execution_count": 1,
   "metadata": {
    "id": "3wMZ2Ge6jw1E"
   },
   "outputs": [],
   "source": [
    "from tensorflow.keras.layers import Input, Dense\n",
    "from tensorflow.keras.datasets import mnist\n",
    "from tensorflow.keras.models import Model\n",
    "from tensorflow.keras import utils\n",
    "import numpy as np"
   ]
  },
  {
   "cell_type": "markdown",
   "metadata": {
    "id": "FDiNppLVkvqd"
   },
   "source": [
    "Let us load the mnist dataset"
   ]
  },
  {
   "cell_type": "code",
   "execution_count": 2,
   "metadata": {
    "colab": {
     "base_uri": "https://localhost:8080/"
    },
    "id": "wL8GyC0Nk14o",
    "outputId": "2fb5509c-8d5f-4a87-e9b8-3cf691280518"
   },
   "outputs": [],
   "source": [
    "(x_train, y_train), (x_test, y_test) = mnist.load_data()"
   ]
  },
  {
   "cell_type": "code",
   "execution_count": 3,
   "metadata": {
    "colab": {
     "base_uri": "https://localhost:8080/"
    },
    "id": "ijhDuLwwlQrI",
    "outputId": "02bca448-0ef7-4c42-cb00-20a6874082d0"
   },
   "outputs": [
    {
     "name": "stdout",
     "output_type": "stream",
     "text": [
      "(60000, 28, 28)\n",
      "pixel range is [0,255]\n"
     ]
    }
   ],
   "source": [
    "print(x_train.shape)\n",
    "print(\"pixel range is [{},{}]\".format(np.min(x_train),np.max(x_train))) "
   ]
  },
  {
   "cell_type": "markdown",
   "metadata": {
    "id": "D01L64YcnWO5"
   },
   "source": [
    "We normalize the input in the range [0,1]"
   ]
  },
  {
   "cell_type": "code",
   "execution_count": 4,
   "metadata": {
    "id": "a8uA2Kp7mG9s"
   },
   "outputs": [],
   "source": [
    "x_train = x_train.astype('float32') / 255.\n",
    "x_test = x_test.astype('float32') / 255.\n",
    "\n",
    "x_train = np.reshape(x_train,(60000,28*28))\n",
    "x_test = np.reshape(x_test,(10000,28*28))"
   ]
  },
  {
   "cell_type": "markdown",
   "metadata": {
    "id": "Yjrzmhgh3TZv"
   },
   "source": [
    "The output of the network will be a proability distribution over the different categories. Similarly, we generate a ground truth distribution, and the training objective will consist in minimizing their distance (categorical crossentropy). The ground truth distribution is the so called \"categorical\" distribution: if x has label l, the corresponding categorical distribution has probaility 1 for the category l, and 0 for all the others."
   ]
  },
  {
   "cell_type": "code",
   "execution_count": 5,
   "metadata": {
    "colab": {
     "base_uri": "https://localhost:8080/"
    },
    "id": "bhzWUm0UnODb",
    "outputId": "e0cf94cf-aabf-4d35-f84e-b481d72c10ec"
   },
   "outputs": [
    {
     "name": "stdout",
     "output_type": "stream",
     "text": [
      "5\n",
      "[0. 0. 0. 0. 0. 1. 0. 0. 0. 0.]\n"
     ]
    }
   ],
   "source": [
    "print(y_train[0])\n",
    "y_train_cat = utils.to_categorical(y_train)\n",
    "print(y_train_cat[0])\n",
    "y_test_cat = utils.to_categorical(y_test)"
   ]
  },
  {
   "cell_type": "markdown",
   "metadata": {
    "id": "sfeZF3bUrFZf"
   },
   "source": [
    "Our first Netwok just implements logistic regression"
   ]
  },
  {
   "cell_type": "code",
   "execution_count": 6,
   "metadata": {
    "id": "hBJtMj2pqJiR"
   },
   "outputs": [
    {
     "name": "stdout",
     "output_type": "stream",
     "text": [
      "WARNING:tensorflow:From /home/moein/Documents/pythonApps/deepspeech-venv/lib/python3.6/site-packages/tensorflow_core/python/ops/resource_variable_ops.py:1630: calling BaseResourceVariable.__init__ (from tensorflow.python.ops.resource_variable_ops) with constraint is deprecated and will be removed in a future version.\n",
      "Instructions for updating:\n",
      "If using Keras pass *_constraint arguments to layers.\n"
     ]
    }
   ],
   "source": [
    "xin = Input(shape=(784))\n",
    "res = Dense(10,activation='softmax')(xin)\n",
    "\n",
    "mynet = Model(inputs=xin,outputs=res)"
   ]
  },
  {
   "cell_type": "code",
   "execution_count": 7,
   "metadata": {
    "colab": {
     "base_uri": "https://localhost:8080/"
    },
    "id": "hXD5JT2ZrTJc",
    "outputId": "36886e01-b9bb-4729-a1ad-257e43f09726"
   },
   "outputs": [
    {
     "name": "stdout",
     "output_type": "stream",
     "text": [
      "Model: \"model\"\n",
      "_________________________________________________________________\n",
      "Layer (type)                 Output Shape              Param #   \n",
      "=================================================================\n",
      "input_1 (InputLayer)         [(None, 784)]             0         \n",
      "_________________________________________________________________\n",
      "dense (Dense)                (None, 10)                7850      \n",
      "=================================================================\n",
      "Total params: 7,850\n",
      "Trainable params: 7,850\n",
      "Non-trainable params: 0\n",
      "_________________________________________________________________\n"
     ]
    }
   ],
   "source": [
    "mynet.summary()"
   ]
  },
  {
   "cell_type": "markdown",
   "metadata": {
    "id": "bcjcOz8yrk5X"
   },
   "source": [
    "Now we need to compile the network.\n",
    "In order to do it, we need to pass two mandatory arguments:\n",
    "\n",
    "\n",
    "*   the **optimizer**, in charge of governing the details of the backpropagation algorithm\n",
    "*   the **loss function**\n",
    "\n",
    "Several predefined optimizers exist, and you should just choose your favourite one. A common choice is Adam, implementing an adaptive lerning rate, with momentum\n",
    "\n",
    "Optionally, we can specify additional metrics, mostly meant for monitoring the training process.\n"
   ]
  },
  {
   "cell_type": "code",
   "execution_count": 8,
   "metadata": {
    "id": "7XK20mAFrrkQ"
   },
   "outputs": [],
   "source": [
    "mynet.compile(optimizer='adam',loss='categorical_crossentropy',metrics=['accuracy'])"
   ]
  },
  {
   "cell_type": "markdown",
   "metadata": {
    "id": "E58bT-Imvsw2"
   },
   "source": [
    "Finally, we fit the model over the trianing set. \n",
    "\n",
    "Fitting, just requires two arguments: training data e ground truth, that is x and y. Additionally we can specify epochs, batch_size, and many additional arguments.\n",
    "\n",
    "In particular, passing validation data allow the training procedure to measure loss and metrics on the validation set at the end of each epoch."
   ]
  },
  {
   "cell_type": "code",
   "execution_count": 9,
   "metadata": {
    "colab": {
     "base_uri": "https://localhost:8080/"
    },
    "id": "l2woDXbbr6ak",
    "outputId": "493cdebc-26fc-454f-d664-f1f1a60c1043"
   },
   "outputs": [
    {
     "name": "stdout",
     "output_type": "stream",
     "text": [
      "Train on 60000 samples, validate on 10000 samples\n",
      "Epoch 1/10\n",
      "60000/60000 [==============================] - 9s 157us/sample - loss: 0.4685 - acc: 0.8777 - val_loss: 0.3114 - val_acc: 0.9146\n",
      "Epoch 2/10\n",
      "60000/60000 [==============================] - 8s 132us/sample - loss: 0.3042 - acc: 0.9146 - val_loss: 0.2830 - val_acc: 0.9206\n",
      "Epoch 3/10\n",
      "60000/60000 [==============================] - 7s 125us/sample - loss: 0.2837 - acc: 0.9202 - val_loss: 0.2745 - val_acc: 0.9232\n",
      "Epoch 4/10\n",
      "60000/60000 [==============================] - 8s 126us/sample - loss: 0.2736 - acc: 0.9235 - val_loss: 0.2705 - val_acc: 0.9260\n",
      "Epoch 5/10\n",
      "60000/60000 [==============================] - 8s 126us/sample - loss: 0.2666 - acc: 0.9261 - val_loss: 0.2680 - val_acc: 0.9259\n",
      "Epoch 6/10\n",
      "60000/60000 [==============================] - 8s 126us/sample - loss: 0.2623 - acc: 0.9275 - val_loss: 0.2650 - val_acc: 0.9263\n",
      "Epoch 7/10\n",
      "60000/60000 [==============================] - 7s 125us/sample - loss: 0.2584 - acc: 0.9283 - val_loss: 0.2625 - val_acc: 0.9267\n",
      "Epoch 8/10\n",
      "60000/60000 [==============================] - 9s 143us/sample - loss: 0.2558 - acc: 0.9293 - val_loss: 0.2642 - val_acc: 0.9275\n",
      "Epoch 9/10\n",
      "60000/60000 [==============================] - 8s 128us/sample - loss: 0.2530 - acc: 0.9299 - val_loss: 0.2654 - val_acc: 0.9274\n",
      "Epoch 10/10\n",
      "60000/60000 [==============================] - 8s 128us/sample - loss: 0.2510 - acc: 0.9304 - val_loss: 0.2650 - val_acc: 0.9266\n"
     ]
    },
    {
     "data": {
      "text/plain": [
       "<tensorflow.python.keras.callbacks.History at 0x7fbc8689af98>"
      ]
     },
     "execution_count": 9,
     "metadata": {},
     "output_type": "execute_result"
    }
   ],
   "source": [
    "mynet.fit(x_train,y_train_cat, shuffle=True, epochs=10, batch_size=32,validation_data=(x_test,y_test_cat))"
   ]
  },
  {
   "cell_type": "code",
   "execution_count": 10,
   "metadata": {
    "id": "k0mBuorMulG5"
   },
   "outputs": [],
   "source": [
    "xin = Input(shape=(784))\n",
    "x = Dense(128,activation='relu')(xin)\n",
    "res = Dense(10,activation='softmax')(x)\n",
    "\n",
    "mynet2 = Model(inputs=xin,outputs=res)"
   ]
  },
  {
   "cell_type": "code",
   "execution_count": 11,
   "metadata": {
    "colab": {
     "base_uri": "https://localhost:8080/"
    },
    "id": "SpMyvw7buzhT",
    "outputId": "bb66d7c4-39fa-4a9b-891d-ea7f1662bd41"
   },
   "outputs": [
    {
     "name": "stdout",
     "output_type": "stream",
     "text": [
      "Model: \"model_1\"\n",
      "_________________________________________________________________\n",
      "Layer (type)                 Output Shape              Param #   \n",
      "=================================================================\n",
      "input_2 (InputLayer)         [(None, 784)]             0         \n",
      "_________________________________________________________________\n",
      "dense_1 (Dense)              (None, 128)               100480    \n",
      "_________________________________________________________________\n",
      "dense_2 (Dense)              (None, 10)                1290      \n",
      "=================================================================\n",
      "Total params: 101,770\n",
      "Trainable params: 101,770\n",
      "Non-trainable params: 0\n",
      "_________________________________________________________________\n"
     ]
    }
   ],
   "source": [
    "mynet2.summary()"
   ]
  },
  {
   "cell_type": "code",
   "execution_count": 33,
   "metadata": {
    "id": "rYg0odW2u6cn"
   },
   "outputs": [],
   "source": [
    "mynet2.compile(optimizer='adam',loss='categorical_crossentropy',metrics=['accuracy'])"
   ]
  },
  {
   "cell_type": "code",
   "execution_count": 34,
   "metadata": {
    "colab": {
     "base_uri": "https://localhost:8080/"
    },
    "id": "KDnzgIZVvGOm",
    "outputId": "cb25ba03-19bb-4197-de31-790e50c39cb5"
   },
   "outputs": [
    {
     "name": "stdout",
     "output_type": "stream",
     "text": [
      "Train on 60000 samples, validate on 10000 samples\n",
      "Epoch 1/2\n",
      "60000/60000 [==============================] - 16s 271us/sample - loss: 0.0790 - acc: 0.9762 - val_loss: 0.0871 - val_acc: 0.9736\n",
      "Epoch 2/2\n",
      "60000/60000 [==============================] - 14s 228us/sample - loss: 0.0585 - acc: 0.9818 - val_loss: 0.0763 - val_acc: 0.9773\n"
     ]
    },
    {
     "data": {
      "text/plain": [
       "<tensorflow.python.keras.callbacks.History at 0x7fbc0bc56cf8>"
      ]
     },
     "execution_count": 34,
     "metadata": {},
     "output_type": "execute_result"
    }
   ],
   "source": [
    "mynet2.fit(x_train,y_train_cat, shuffle=True, epochs=2, batch_size=32,validation_data=(x_test,y_test_cat))"
   ]
  },
  {
   "cell_type": "markdown",
   "metadata": {
    "id": "UcUKxCzKwzG9"
   },
   "source": [
    "An amazing improvement. WOW!"
   ]
  },
  {
   "cell_type": "code",
   "execution_count": 43,
   "metadata": {},
   "outputs": [],
   "source": [
    "xin = Input(shape=(784))\n",
    "x1 = Dense(128, activation='sigmoid')(xin)\n",
    "x2 = Dense(64, activation='sigmoid')(x1)\n",
    "res = Dense(10, activation='softmax')(x2)\n",
    "mynet3 = Model(inputs= xin, outputs=res)"
   ]
  },
  {
   "cell_type": "code",
   "execution_count": 44,
   "metadata": {},
   "outputs": [
    {
     "name": "stdout",
     "output_type": "stream",
     "text": [
      "Model: \"model_4\"\n",
      "_________________________________________________________________\n",
      "Layer (type)                 Output Shape              Param #   \n",
      "=================================================================\n",
      "input_5 (InputLayer)         [(None, 784)]             0         \n",
      "_________________________________________________________________\n",
      "dense_9 (Dense)              (None, 128)               100480    \n",
      "_________________________________________________________________\n",
      "dense_10 (Dense)             (None, 64)                8256      \n",
      "_________________________________________________________________\n",
      "dense_11 (Dense)             (None, 10)                650       \n",
      "=================================================================\n",
      "Total params: 109,386\n",
      "Trainable params: 109,386\n",
      "Non-trainable params: 0\n",
      "_________________________________________________________________\n"
     ]
    }
   ],
   "source": [
    "mynet3.summary()"
   ]
  },
  {
   "cell_type": "code",
   "execution_count": 46,
   "metadata": {},
   "outputs": [],
   "source": [
    "mynet3.compile(optimizer='adam', loss='categorical_crossentropy', metrics=['accuracy'])"
   ]
  },
  {
   "cell_type": "code",
   "execution_count": 47,
   "metadata": {},
   "outputs": [
    {
     "name": "stdout",
     "output_type": "stream",
     "text": [
      "Train on 60000 samples, validate on 10000 samples\n",
      "Epoch 1/10\n",
      "60000/60000 [==============================] - 15s 254us/sample - loss: 0.4703 - acc: 0.8798 - val_loss: 0.2099 - val_acc: 0.9403\n",
      "Epoch 2/10\n",
      "60000/60000 [==============================] - 14s 231us/sample - loss: 0.1747 - acc: 0.9486 - val_loss: 0.1499 - val_acc: 0.9541\n",
      "Epoch 3/10\n",
      "60000/60000 [==============================] - 12s 208us/sample - loss: 0.1214 - acc: 0.9641 - val_loss: 0.1149 - val_acc: 0.9641\n",
      "Epoch 4/10\n",
      "60000/60000 [==============================] - 13s 220us/sample - loss: 0.0895 - acc: 0.9732 - val_loss: 0.0973 - val_acc: 0.9696\n",
      "Epoch 5/10\n",
      "60000/60000 [==============================] - 13s 214us/sample - loss: 0.0700 - acc: 0.9793 - val_loss: 0.0801 - val_acc: 0.9749\n",
      "Epoch 6/10\n",
      "60000/60000 [==============================] - 14s 226us/sample - loss: 0.0547 - acc: 0.9838 - val_loss: 0.0764 - val_acc: 0.9766\n",
      "Epoch 7/10\n",
      "60000/60000 [==============================] - 14s 236us/sample - loss: 0.0443 - acc: 0.9875 - val_loss: 0.0734 - val_acc: 0.9770\n",
      "Epoch 8/10\n",
      "60000/60000 [==============================] - 15s 244us/sample - loss: 0.0354 - acc: 0.9899 - val_loss: 0.0750 - val_acc: 0.9778\n",
      "Epoch 9/10\n",
      "60000/60000 [==============================] - 13s 212us/sample - loss: 0.0283 - acc: 0.9923 - val_loss: 0.0784 - val_acc: 0.9766\n",
      "Epoch 10/10\n",
      "60000/60000 [==============================] - 14s 227us/sample - loss: 0.0232 - acc: 0.9937 - val_loss: 0.0741 - val_acc: 0.9784\n"
     ]
    }
   ],
   "source": [
    "history = mynet3.fit(x_train,y_train_cat,shuffle=True,epochs=10, batch_size=32, validation_data=(x_test,y_test_cat))"
   ]
  },
  {
   "cell_type": "code",
   "execution_count": 30,
   "metadata": {},
   "outputs": [
    {
     "name": "stdout",
     "output_type": "stream",
     "text": [
      "dict_keys(['loss', 'acc', 'val_loss', 'val_acc'])\n"
     ]
    },
    {
     "data": {
      "image/png": "[encoded data removed]",
      "text/plain": [
       "<Figure size 432x288 with 1 Axes>"
      ]
     },
     "metadata": {
      "needs_background": "light"
     },
     "output_type": "display_data"
    },
    {
     "data": {
      "image/png": "[encoded data removed]",
      "text/plain": [
       "<Figure size 432x288 with 1 Axes>"
      ]
     },
     "metadata": {
      "needs_background": "light"
     },
     "output_type": "display_data"
    }
   ],
   "source": [
    "import matplotlib.pyplot as plt\n",
    "# list all data in history\n",
    "print(history.history.keys())\n",
    "# summarize history for accuracy\n",
    "plt.plot(history.history['acc'])\n",
    "plt.plot(history.history['val_acc'])\n",
    "plt.title('model accuracy')\n",
    "plt.ylabel('accuracy')\n",
    "plt.xlabel('epoch')\n",
    "plt.legend(['train', 'test'], loc='upper left')\n",
    "plt.show()\n",
    "# summarize history for loss\n",
    "plt.plot(history.history['loss'])\n",
    "plt.plot(history.history['val_loss'])\n",
    "plt.title('model loss')\n",
    "plt.ylabel('loss')\n",
    "plt.xlabel('epoch')\n",
    "plt.legend(['train', 'test'], loc='upper left')\n",
    "plt.show()"
   ]
  }
 ],
 "metadata": {
  "accelerator": "GPU",
  "colab": {
   "name": "mnistDense.ipynb",
   "provenance": []
  },
  "kernelspec": {
   "display_name": "Python 3",
   "language": "python",
   "name": "python3"
  },
  "language_info": {
   "codemirror_mode": {
    "name": "ipython",
    "version": 3
   },
   "file_extension": ".py",
   "mimetype": "text/x-python",
   "name": "python",
   "nbconvert_exporter": "python",
   "pygments_lexer": "ipython3",
   "version": "3.6.15"
  }
 },
 "nbformat": 4,
 "nbformat_minor": 4
}
